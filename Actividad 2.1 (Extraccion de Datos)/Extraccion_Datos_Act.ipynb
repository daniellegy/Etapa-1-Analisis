{
 "cells": [
  {
   "cell_type": "markdown",
   "metadata": {},
   "source": [
    "**IMPORTAR LIBRERIAS**"
   ]
  },
  {
   "cell_type": "code",
   "execution_count": 4,
   "metadata": {},
   "outputs": [],
   "source": [
    "import pandas as pd\n",
    "import numpy as np \n",
    "import matplotlib.pyplot as plt \n",
    "import seaborn as sns"
   ]
  },
  {
   "cell_type": "markdown",
   "metadata": {},
   "source": [
    "**CARGAR EL ARCHIVO CSV**"
   ]
  },
  {
   "cell_type": "code",
   "execution_count": null,
   "metadata": {},
   "outputs": [],
   "source": [
    "df = pd.read_csv(\"listings.csv\", encoding='latin')\n",
    "df"
   ]
  },
  {
   "cell_type": "markdown",
   "metadata": {},
   "source": [
    "**FILTRO 1**"
   ]
  },
  {
   "cell_type": "code",
   "execution_count": null,
   "metadata": {},
   "outputs": [],
   "source": [
    "filtro1=df[(df[\"host_name\"] == \"Emmanouil\")]\n",
    "filtro1"
   ]
  },
  {
   "cell_type": "markdown",
   "metadata": {},
   "source": [
    "**FILTRO 2**"
   ]
  },
  {
   "cell_type": "code",
   "execution_count": null,
   "metadata": {},
   "outputs": [],
   "source": [
    "filtro2= df.iloc[3:10,:]\n",
    "filtro2"
   ]
  },
  {
   "cell_type": "markdown",
   "metadata": {},
   "source": [
    "**FILTRO 3**"
   ]
  },
  {
   "cell_type": "code",
   "execution_count": null,
   "metadata": {},
   "outputs": [],
   "source": [
    "filtro3=df.iloc[:,1:3] #Columnas consecutivas\n",
    "#filtro3=df.iloc[:,[1,4,5]] #Columnas no consecutivas\n",
    "filtro3"
   ]
  },
  {
   "cell_type": "markdown",
   "metadata": {},
   "source": [
    "**FILTRO 4**"
   ]
  },
  {
   "cell_type": "code",
   "execution_count": null,
   "metadata": {},
   "outputs": [],
   "source": [
    "df1=pd.read_csv('listings.csv', index_col=11, encoding= 'latin')\n",
    "\n",
    "filtro4=df1.loc[[\"Emmanouil\",\"D & Y Boutique Athens\"],[\"review_scores_rating\"]]\n",
    "filtro4"
   ]
  },
  {
   "cell_type": "markdown",
   "metadata": {},
   "source": [
    "**FILTRO 5**"
   ]
  },
  {
   "cell_type": "code",
   "execution_count": null,
   "metadata": {},
   "outputs": [],
   "source": [
    "filtro5=df.head(20)\n",
    "filtro5"
   ]
  },
  {
   "cell_type": "markdown",
   "metadata": {},
   "source": [
    "**FILTRO 6**"
   ]
  },
  {
   "cell_type": "code",
   "execution_count": null,
   "metadata": {},
   "outputs": [],
   "source": [
    "filtro6=df.tail(20)\n",
    "filtro6"
   ]
  },
  {
   "cell_type": "markdown",
   "metadata": {},
   "source": [
    "**FILTRO 7**"
   ]
  },
  {
   "cell_type": "code",
   "execution_count": null,
   "metadata": {},
   "outputs": [],
   "source": [
    "filtro7=df[df[\"review_scores_rating\"] < 4]\n",
    "filtro7"
   ]
  },
  {
   "cell_type": "markdown",
   "metadata": {},
   "source": [
    "**FILTRO 8 (Y)**"
   ]
  },
  {
   "cell_type": "code",
   "execution_count": null,
   "metadata": {},
   "outputs": [],
   "source": [
    "#filtro y\n",
    "filtro8=df[(df[\"review_scores_rating\"] > 4) & (df[\"host_name\"] == \"Emmanouil\")]\n",
    "filtro8"
   ]
  },
  {
   "cell_type": "markdown",
   "metadata": {},
   "source": [
    "**FILTRO 9 (O)**"
   ]
  },
  {
   "cell_type": "code",
   "execution_count": null,
   "metadata": {},
   "outputs": [],
   "source": [
    "#filtro y\n",
    "filtro9=df[(df[\"review_scores_rating\"] > 4) | (df[\"host_name\"] == \"Emmanouil\")]\n",
    "filtro9"
   ]
  },
  {
   "cell_type": "markdown",
   "metadata": {},
   "source": [
    "**FILTRO 10 (Not)**"
   ]
  },
  {
   "cell_type": "code",
   "execution_count": null,
   "metadata": {},
   "outputs": [],
   "source": [
    "#filtro not\n",
    "filtro10=df[~(df[\"host_name\"] == \"Emmanouil\")]\n",
    "filtro10"
   ]
  },
  {
   "cell_type": "markdown",
   "metadata": {},
   "source": [
    "**Convertimos todos los dataframes a cvs's**"
   ]
  },
  {
   "cell_type": "code",
   "execution_count": 26,
   "metadata": {},
   "outputs": [],
   "source": [
    "#Convertir archivo filtrando a CSV\n",
    "filtro1.to_csv(\"Entregable1.csv\")\n",
    "filtro2.to_csv(\"Entregable2.csv\")\n",
    "filtro3.to_csv(\"Entregable3.csv\")\n",
    "filtro4.to_csv(\"Entregable4.csv\")\n",
    "filtro5.to_csv(\"Entregable5.csv\")\n",
    "filtro6.to_csv(\"Entregable6.csv\")\n",
    "filtro7.to_csv(\"Entregable7.csv\")\n",
    "filtro8.to_csv(\"Entregable8.csv\")\n",
    "filtro9.to_csv(\"Entregable9.csv\")\n",
    "filtro10.to_csv(\"Entregable10.csv\")"
   ]
  }
 ],
 "metadata": {
  "kernelspec": {
   "display_name": "Python 3",
   "language": "python",
   "name": "python3"
  },
  "language_info": {
   "codemirror_mode": {
    "name": "ipython",
    "version": 3
   },
   "file_extension": ".py",
   "mimetype": "text/x-python",
   "name": "python",
   "nbconvert_exporter": "python",
   "pygments_lexer": "ipython3",
   "version": "3.13.1"
  }
 },
 "nbformat": 4,
 "nbformat_minor": 2
}
