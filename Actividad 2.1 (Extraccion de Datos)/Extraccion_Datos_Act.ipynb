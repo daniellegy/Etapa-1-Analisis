{
 "cells": [
  {
   "cell_type": "markdown",
   "metadata": {},
   "source": [
    "**IMPORTAR LIBRERIAS**"
   ]
  },
  {
   "cell_type": "code",
   "execution_count": 3,
   "metadata": {},
   "outputs": [],
   "source": [
    "import pandas as pd\n",
    "import numpy as np \n",
    "import matplotlib.pyplot as plt \n",
    "import seaborn as sns"
   ]
  },
  {
   "cell_type": "markdown",
   "metadata": {},
   "source": [
    "**CARGAR EL ARCHIVO CSV**"
   ]
  },
  {
   "cell_type": "code",
   "execution_count": 13,
   "metadata": {},
   "outputs": [
    {
     "data": {
      "text/html": [
       "<div>\n",
       "<style scoped>\n",
       "    .dataframe tbody tr th:only-of-type {\n",
       "        vertical-align: middle;\n",
       "    }\n",
       "\n",
       "    .dataframe tbody tr th {\n",
       "        vertical-align: top;\n",
       "    }\n",
       "\n",
       "    .dataframe thead th {\n",
       "        text-align: right;\n",
       "    }\n",
       "</style>\n",
       "<table border=\"1\" class=\"dataframe\">\n",
       "  <thead>\n",
       "    <tr style=\"text-align: right;\">\n",
       "      <th></th>\n",
       "      <th>CVE_DOC</th>\n",
       "      <th>FECHA_DOC</th>\n",
       "      <th>NOMBRE_VENDEDOR</th>\n",
       "      <th>NOMBRE_CLIENTE</th>\n",
       "      <th>CANT</th>\n",
       "      <th>CVE_ART</th>\n",
       "      <th>DESCR</th>\n",
       "      <th>PRECIO_UNITARIO</th>\n",
       "      <th>COSTO_UNITARIO</th>\n",
       "      <th>COSTO_UNITARIO_CALCULADO</th>\n",
       "      <th>SUBTOTAL_PARTIDA</th>\n",
       "      <th>COSTO_TOTAL_CALCULADO</th>\n",
       "      <th>MARGEN_UNITARIO_CALCULADO</th>\n",
       "      <th>MARGEN_TOTAL_CALCULADO</th>\n",
       "    </tr>\n",
       "  </thead>\n",
       "  <tbody>\n",
       "    <tr>\n",
       "      <th>0</th>\n",
       "      <td>F37034</td>\n",
       "      <td>2022-01-05</td>\n",
       "      <td>LETICIA RAMIREZ HERNANDEZ</td>\n",
       "      <td>PÚBLICO EN GENERAL</td>\n",
       "      <td>1</td>\n",
       "      <td>TUE00244</td>\n",
       "      <td>TUB COBRE 5/16\"ØX165MM CIRCULA1.5KW127V</td>\n",
       "      <td>434.48</td>\n",
       "      <td>52.80</td>\n",
       "      <td>52.80</td>\n",
       "      <td>434.48</td>\n",
       "      <td>52.80</td>\n",
       "      <td>381.68</td>\n",
       "      <td>381.68</td>\n",
       "    </tr>\n",
       "    <tr>\n",
       "      <th>1</th>\n",
       "      <td>F37036</td>\n",
       "      <td>2022-01-05</td>\n",
       "      <td>LETICIA RAMIREZ HERNANDEZ</td>\n",
       "      <td>JUAN ANTONIO RESENDIZ UGALDE</td>\n",
       "      <td>1</td>\n",
       "      <td>TUA00028</td>\n",
       "      <td>TUA U\" 5/16 ØX250MM 1200W 120V TAP1\"NPT</td>\n",
       "      <td>1264.05</td>\n",
       "      <td>327.18</td>\n",
       "      <td>327.18</td>\n",
       "      <td>1264.05</td>\n",
       "      <td>327.18</td>\n",
       "      <td>936.87</td>\n",
       "      <td>936.87</td>\n",
       "    </tr>\n",
       "    <tr>\n",
       "      <th>2</th>\n",
       "      <td>F37041</td>\n",
       "      <td>2022-01-05</td>\n",
       "      <td>DIEGO ARMANDO LEON DURAN</td>\n",
       "      <td>ANA BARBARA CRUZ PALACIOS</td>\n",
       "      <td>7</td>\n",
       "      <td>TP0007</td>\n",
       "      <td>TERMOPAR J 3/16 Ø X 1' 1/2 EXT. 7 MT</td>\n",
       "      <td>551.61</td>\n",
       "      <td>177.68</td>\n",
       "      <td>177.68</td>\n",
       "      <td>3861.29</td>\n",
       "      <td>1243.73</td>\n",
       "      <td>373.94</td>\n",
       "      <td>2617.56</td>\n",
       "    </tr>\n",
       "    <tr>\n",
       "      <th>3</th>\n",
       "      <td>F37042</td>\n",
       "      <td>2022-01-05</td>\n",
       "      <td>DIEGO ARMANDO LEON DURAN</td>\n",
       "      <td>OMAR RODRIGUEZ GOMEZ</td>\n",
       "      <td>1</td>\n",
       "      <td>TP0001</td>\n",
       "      <td>TERMOPAR J 3/16 Ø X 1' 1/2 EXT. 1 MT</td>\n",
       "      <td>140.00</td>\n",
       "      <td>38.96</td>\n",
       "      <td>38.96</td>\n",
       "      <td>140.00</td>\n",
       "      <td>38.96</td>\n",
       "      <td>101.04</td>\n",
       "      <td>101.04</td>\n",
       "    </tr>\n",
       "    <tr>\n",
       "      <th>4</th>\n",
       "      <td>F37043</td>\n",
       "      <td>2022-01-05</td>\n",
       "      <td>LETICIA RAMIREZ HERNANDEZ</td>\n",
       "      <td>PÚBLICO EN GENERAL</td>\n",
       "      <td>2</td>\n",
       "      <td>BP00242</td>\n",
       "      <td>BAN P INOX 115MMX235MM 1000W 127V T/TOR</td>\n",
       "      <td>172.41</td>\n",
       "      <td>101.71</td>\n",
       "      <td>101.71</td>\n",
       "      <td>344.83</td>\n",
       "      <td>203.42</td>\n",
       "      <td>70.71</td>\n",
       "      <td>141.41</td>\n",
       "    </tr>\n",
       "    <tr>\n",
       "      <th>...</th>\n",
       "      <td>...</td>\n",
       "      <td>...</td>\n",
       "      <td>...</td>\n",
       "      <td>...</td>\n",
       "      <td>...</td>\n",
       "      <td>...</td>\n",
       "      <td>...</td>\n",
       "      <td>...</td>\n",
       "      <td>...</td>\n",
       "      <td>...</td>\n",
       "      <td>...</td>\n",
       "      <td>...</td>\n",
       "      <td>...</td>\n",
       "      <td>...</td>\n",
       "    </tr>\n",
       "    <tr>\n",
       "      <th>1421</th>\n",
       "      <td>F39834</td>\n",
       "      <td>2022-12-23</td>\n",
       "      <td>LETICIA RAMIREZ HERNANDEZ</td>\n",
       "      <td>LUIS ENRIQUE PATIÑO PEREZ</td>\n",
       "      <td>6</td>\n",
       "      <td>CS12F1040A00</td>\n",
       "      <td>CAS INOX 1/2\"ØX3\" 400W 127V EXT.30CM</td>\n",
       "      <td>712.00</td>\n",
       "      <td>102.31</td>\n",
       "      <td>102.31</td>\n",
       "      <td>4272.00</td>\n",
       "      <td>613.88</td>\n",
       "      <td>609.69</td>\n",
       "      <td>3658.12</td>\n",
       "    </tr>\n",
       "    <tr>\n",
       "      <th>1422</th>\n",
       "      <td>F39834</td>\n",
       "      <td>2022-12-23</td>\n",
       "      <td>LETICIA RAMIREZ HERNANDEZ</td>\n",
       "      <td>LUIS ENRIQUE PATIÑO PEREZ</td>\n",
       "      <td>6</td>\n",
       "      <td>CS12H1050A00</td>\n",
       "      <td>CAS INOX 1/2\"ØX4\" 500W 127V EXT30CM</td>\n",
       "      <td>718.60</td>\n",
       "      <td>104.69</td>\n",
       "      <td>104.69</td>\n",
       "      <td>4311.60</td>\n",
       "      <td>628.12</td>\n",
       "      <td>613.91</td>\n",
       "      <td>3683.48</td>\n",
       "    </tr>\n",
       "    <tr>\n",
       "      <th>1423</th>\n",
       "      <td>F39835</td>\n",
       "      <td>2022-12-23</td>\n",
       "      <td>LETICIA RAMIREZ HERNANDEZ</td>\n",
       "      <td>SEVEN DAYS ALL SPORT</td>\n",
       "      <td>3</td>\n",
       "      <td>TUE00394</td>\n",
       "      <td>TUB INOX 5/16\"ØX300MM 5300W 220V \"M\" ESP</td>\n",
       "      <td>2182.35</td>\n",
       "      <td>0.00</td>\n",
       "      <td>596.55</td>\n",
       "      <td>6547.05</td>\n",
       "      <td>1789.64</td>\n",
       "      <td>1585.80</td>\n",
       "      <td>4757.41</td>\n",
       "    </tr>\n",
       "    <tr>\n",
       "      <th>1424</th>\n",
       "      <td>F39837</td>\n",
       "      <td>2022-12-23</td>\n",
       "      <td>LETICIA RAMIREZ HERNANDEZ</td>\n",
       "      <td>REVUELTA MONTECARLO</td>\n",
       "      <td>1</td>\n",
       "      <td>TUA00470</td>\n",
       "      <td>TUB INOX 1/2\"ØX500MM 10KW 220V 2 1/2\"NPT</td>\n",
       "      <td>5909.84</td>\n",
       "      <td>1884.35</td>\n",
       "      <td>1884.35</td>\n",
       "      <td>5909.84</td>\n",
       "      <td>1884.35</td>\n",
       "      <td>4025.49</td>\n",
       "      <td>4025.49</td>\n",
       "    </tr>\n",
       "    <tr>\n",
       "      <th>1425</th>\n",
       "      <td>F39838</td>\n",
       "      <td>2022-12-23</td>\n",
       "      <td>AARON NUÑO CORDOVA</td>\n",
       "      <td>CPEG SOLUTIONS</td>\n",
       "      <td>10</td>\n",
       "      <td>RB00007</td>\n",
       "      <td>FAB  BOBINA DSD1 6 COLOCAR B/NUEVA 488V</td>\n",
       "      <td>1406.00</td>\n",
       "      <td>0.00</td>\n",
       "      <td>80.66</td>\n",
       "      <td>14060.00</td>\n",
       "      <td>806.55</td>\n",
       "      <td>1325.34</td>\n",
       "      <td>13253.45</td>\n",
       "    </tr>\n",
       "  </tbody>\n",
       "</table>\n",
       "<p>1426 rows × 14 columns</p>\n",
       "</div>"
      ],
      "text/plain": [
       "     CVE_DOC  FECHA_DOC            NOMBRE_VENDEDOR  \\\n",
       "0     F37034 2022-01-05  LETICIA RAMIREZ HERNANDEZ   \n",
       "1     F37036 2022-01-05  LETICIA RAMIREZ HERNANDEZ   \n",
       "2     F37041 2022-01-05   DIEGO ARMANDO LEON DURAN   \n",
       "3     F37042 2022-01-05   DIEGO ARMANDO LEON DURAN   \n",
       "4     F37043 2022-01-05  LETICIA RAMIREZ HERNANDEZ   \n",
       "...      ...        ...                        ...   \n",
       "1421  F39834 2022-12-23  LETICIA RAMIREZ HERNANDEZ   \n",
       "1422  F39834 2022-12-23  LETICIA RAMIREZ HERNANDEZ   \n",
       "1423  F39835 2022-12-23  LETICIA RAMIREZ HERNANDEZ   \n",
       "1424  F39837 2022-12-23  LETICIA RAMIREZ HERNANDEZ   \n",
       "1425  F39838 2022-12-23         AARON NUÑO CORDOVA   \n",
       "\n",
       "                    NOMBRE_CLIENTE  CANT       CVE_ART  \\\n",
       "0               PÚBLICO EN GENERAL     1      TUE00244   \n",
       "1     JUAN ANTONIO RESENDIZ UGALDE     1      TUA00028   \n",
       "2        ANA BARBARA CRUZ PALACIOS     7        TP0007   \n",
       "3             OMAR RODRIGUEZ GOMEZ     1        TP0001   \n",
       "4               PÚBLICO EN GENERAL     2       BP00242   \n",
       "...                            ...   ...           ...   \n",
       "1421     LUIS ENRIQUE PATIÑO PEREZ     6  CS12F1040A00   \n",
       "1422     LUIS ENRIQUE PATIÑO PEREZ     6  CS12H1050A00   \n",
       "1423          SEVEN DAYS ALL SPORT     3      TUE00394   \n",
       "1424           REVUELTA MONTECARLO     1      TUA00470   \n",
       "1425                CPEG SOLUTIONS    10       RB00007   \n",
       "\n",
       "                                         DESCR  PRECIO_UNITARIO  \\\n",
       "0      TUB COBRE 5/16\"ØX165MM CIRCULA1.5KW127V           434.48   \n",
       "1      TUA U\" 5/16 ØX250MM 1200W 120V TAP1\"NPT          1264.05   \n",
       "2         TERMOPAR J 3/16 Ø X 1' 1/2 EXT. 7 MT           551.61   \n",
       "3         TERMOPAR J 3/16 Ø X 1' 1/2 EXT. 1 MT           140.00   \n",
       "4      BAN P INOX 115MMX235MM 1000W 127V T/TOR           172.41   \n",
       "...                                        ...              ...   \n",
       "1421      CAS INOX 1/2\"ØX3\" 400W 127V EXT.30CM           712.00   \n",
       "1422       CAS INOX 1/2\"ØX4\" 500W 127V EXT30CM           718.60   \n",
       "1423  TUB INOX 5/16\"ØX300MM 5300W 220V \"M\" ESP          2182.35   \n",
       "1424  TUB INOX 1/2\"ØX500MM 10KW 220V 2 1/2\"NPT          5909.84   \n",
       "1425   FAB  BOBINA DSD1 6 COLOCAR B/NUEVA 488V          1406.00   \n",
       "\n",
       "      COSTO_UNITARIO  COSTO_UNITARIO_CALCULADO  SUBTOTAL_PARTIDA  \\\n",
       "0              52.80                     52.80            434.48   \n",
       "1             327.18                    327.18           1264.05   \n",
       "2             177.68                    177.68           3861.29   \n",
       "3              38.96                     38.96            140.00   \n",
       "4             101.71                    101.71            344.83   \n",
       "...              ...                       ...               ...   \n",
       "1421          102.31                    102.31           4272.00   \n",
       "1422          104.69                    104.69           4311.60   \n",
       "1423            0.00                    596.55           6547.05   \n",
       "1424         1884.35                   1884.35           5909.84   \n",
       "1425            0.00                     80.66          14060.00   \n",
       "\n",
       "      COSTO_TOTAL_CALCULADO  MARGEN_UNITARIO_CALCULADO  MARGEN_TOTAL_CALCULADO  \n",
       "0                     52.80                     381.68                  381.68  \n",
       "1                    327.18                     936.87                  936.87  \n",
       "2                   1243.73                     373.94                 2617.56  \n",
       "3                     38.96                     101.04                  101.04  \n",
       "4                    203.42                      70.71                  141.41  \n",
       "...                     ...                        ...                     ...  \n",
       "1421                 613.88                     609.69                 3658.12  \n",
       "1422                 628.12                     613.91                 3683.48  \n",
       "1423                1789.64                    1585.80                 4757.41  \n",
       "1424                1884.35                    4025.49                 4025.49  \n",
       "1425                 806.55                    1325.34                13253.45  \n",
       "\n",
       "[1426 rows x 14 columns]"
      ]
     },
     "execution_count": 13,
     "metadata": {},
     "output_type": "execute_result"
    }
   ],
   "source": [
    "df = pd.read_excel('Detalle precios y productos fabricados 2022.xlsx')\n",
    "df"
   ]
  },
  {
   "cell_type": "markdown",
   "metadata": {},
   "source": [
    "**FILTRO 1**"
   ]
  },
  {
   "cell_type": "code",
   "execution_count": null,
   "metadata": {},
   "outputs": [],
   "source": [
    "filtro1=df[(df[\"NOMBRE_VENDEDOR\"] == \"LETICIA RAMIREZ HERNANDEZ\")]\n",
    "filtro1"
   ]
  },
  {
   "cell_type": "markdown",
   "metadata": {},
   "source": [
    "**FILTRO 2**"
   ]
  },
  {
   "cell_type": "code",
   "execution_count": null,
   "metadata": {},
   "outputs": [],
   "source": [
    "filtro2= df.iloc[3:10,:]\n",
    "filtro2"
   ]
  },
  {
   "cell_type": "markdown",
   "metadata": {},
   "source": [
    "**FILTRO 3**"
   ]
  },
  {
   "cell_type": "code",
   "execution_count": null,
   "metadata": {},
   "outputs": [],
   "source": [
    "filtro3=df.iloc[:,1:3] #Columnas consecutivas\n",
    "#filtro3=df.iloc[:,[1,4,5]] #Columnas no consecutivas\n",
    "filtro3"
   ]
  },
  {
   "cell_type": "markdown",
   "metadata": {},
   "source": [
    "**FILTRO 4**"
   ]
  },
  {
   "cell_type": "code",
   "execution_count": 16,
   "metadata": {},
   "outputs": [
    {
     "data": {
      "text/html": [
       "<div>\n",
       "<style scoped>\n",
       "    .dataframe tbody tr th:only-of-type {\n",
       "        vertical-align: middle;\n",
       "    }\n",
       "\n",
       "    .dataframe tbody tr th {\n",
       "        vertical-align: top;\n",
       "    }\n",
       "\n",
       "    .dataframe thead th {\n",
       "        text-align: right;\n",
       "    }\n",
       "</style>\n",
       "<table border=\"1\" class=\"dataframe\">\n",
       "  <thead>\n",
       "    <tr style=\"text-align: right;\">\n",
       "      <th></th>\n",
       "      <th>PRECIO_UNITARIO</th>\n",
       "    </tr>\n",
       "    <tr>\n",
       "      <th>NOMBRE_VENDEDOR</th>\n",
       "      <th></th>\n",
       "    </tr>\n",
       "  </thead>\n",
       "  <tbody>\n",
       "    <tr>\n",
       "      <th>LETICIA RAMIREZ HERNANDEZ</th>\n",
       "      <td>434.48</td>\n",
       "    </tr>\n",
       "    <tr>\n",
       "      <th>LETICIA RAMIREZ HERNANDEZ</th>\n",
       "      <td>1264.05</td>\n",
       "    </tr>\n",
       "    <tr>\n",
       "      <th>LETICIA RAMIREZ HERNANDEZ</th>\n",
       "      <td>172.41</td>\n",
       "    </tr>\n",
       "    <tr>\n",
       "      <th>LETICIA RAMIREZ HERNANDEZ</th>\n",
       "      <td>237.07</td>\n",
       "    </tr>\n",
       "    <tr>\n",
       "      <th>LETICIA RAMIREZ HERNANDEZ</th>\n",
       "      <td>94.50</td>\n",
       "    </tr>\n",
       "    <tr>\n",
       "      <th>...</th>\n",
       "      <td>...</td>\n",
       "    </tr>\n",
       "    <tr>\n",
       "      <th>AARON NUÑO CORDOVA</th>\n",
       "      <td>925.82</td>\n",
       "    </tr>\n",
       "    <tr>\n",
       "      <th>AARON NUÑO CORDOVA</th>\n",
       "      <td>1910.50</td>\n",
       "    </tr>\n",
       "    <tr>\n",
       "      <th>AARON NUÑO CORDOVA</th>\n",
       "      <td>2020.42</td>\n",
       "    </tr>\n",
       "    <tr>\n",
       "      <th>AARON NUÑO CORDOVA</th>\n",
       "      <td>1177.07</td>\n",
       "    </tr>\n",
       "    <tr>\n",
       "      <th>AARON NUÑO CORDOVA</th>\n",
       "      <td>1406.00</td>\n",
       "    </tr>\n",
       "  </tbody>\n",
       "</table>\n",
       "<p>967 rows × 1 columns</p>\n",
       "</div>"
      ],
      "text/plain": [
       "                           PRECIO_UNITARIO\n",
       "NOMBRE_VENDEDOR                           \n",
       "LETICIA RAMIREZ HERNANDEZ           434.48\n",
       "LETICIA RAMIREZ HERNANDEZ          1264.05\n",
       "LETICIA RAMIREZ HERNANDEZ           172.41\n",
       "LETICIA RAMIREZ HERNANDEZ           237.07\n",
       "LETICIA RAMIREZ HERNANDEZ            94.50\n",
       "...                                    ...\n",
       "AARON NUÑO CORDOVA                  925.82\n",
       "AARON NUÑO CORDOVA                 1910.50\n",
       "AARON NUÑO CORDOVA                 2020.42\n",
       "AARON NUÑO CORDOVA                 1177.07\n",
       "AARON NUÑO CORDOVA                 1406.00\n",
       "\n",
       "[967 rows x 1 columns]"
      ]
     },
     "execution_count": 16,
     "metadata": {},
     "output_type": "execute_result"
    }
   ],
   "source": [
    "df1=pd.read_excel('Detalle precios y productos fabricados 2022.xlsx', index_col=2)\n",
    "\n",
    "filtro4=df1.loc[[\"LETICIA RAMIREZ HERNANDEZ\",\"AARON NUÑO CORDOVA\"],[\"PRECIO_UNITARIO\"]]\n",
    "filtro4"
   ]
  },
  {
   "cell_type": "markdown",
   "metadata": {},
   "source": [
    "**FILTRO 5**"
   ]
  },
  {
   "cell_type": "code",
   "execution_count": null,
   "metadata": {},
   "outputs": [],
   "source": [
    "filtro5=df.head(20)\n",
    "filtro5"
   ]
  },
  {
   "cell_type": "markdown",
   "metadata": {},
   "source": [
    "**FILTRO 6**"
   ]
  },
  {
   "cell_type": "code",
   "execution_count": null,
   "metadata": {},
   "outputs": [],
   "source": [
    "filtro6=df.tail(20)\n",
    "filtro6"
   ]
  },
  {
   "cell_type": "markdown",
   "metadata": {},
   "source": [
    "**FILTRO 7**"
   ]
  },
  {
   "cell_type": "code",
   "execution_count": null,
   "metadata": {},
   "outputs": [],
   "source": [
    "filtro7=df[df[\"PRECIO_UNITARIO\"] < 150]\n",
    "filtro7"
   ]
  },
  {
   "cell_type": "markdown",
   "metadata": {},
   "source": [
    "**FILTRO 8 (Y)**"
   ]
  },
  {
   "cell_type": "code",
   "execution_count": null,
   "metadata": {},
   "outputs": [],
   "source": [
    "#filtro y\n",
    "filtro8=df[(df[\"PRECIO_UNITARIO\"] < 150) & (df[\"NOMBRE_VENDEDOR\"] == \"LETICIA RAMIREZ HERNANDEZ\")]\n",
    "filtro8"
   ]
  },
  {
   "cell_type": "markdown",
   "metadata": {},
   "source": [
    "**FILTRO 9 (O)**"
   ]
  },
  {
   "cell_type": "code",
   "execution_count": null,
   "metadata": {},
   "outputs": [],
   "source": [
    "#filtro y\n",
    "filtro9=df[(df[\"PRECIO_UNITARIO\"] < 150) | (df[\"NOMBRE_VENDEDOR\"] == \"LETICIA RAMIREZ HERNANDEZ\")]\n",
    "filtro9"
   ]
  },
  {
   "cell_type": "markdown",
   "metadata": {},
   "source": [
    "**FILTRO 10 (Not)**"
   ]
  },
  {
   "cell_type": "code",
   "execution_count": null,
   "metadata": {},
   "outputs": [],
   "source": [
    "#filtro not\n",
    "filtro10=df[~(df[\"NOMBRE_VENDEDOR\"] == \"LETICIA RAMIREZ HERNANDEZ\")]\n",
    "filtro10"
   ]
  },
  {
   "cell_type": "markdown",
   "metadata": {},
   "source": [
    "**Convertimos todos los dataframes a cvs's**"
   ]
  },
  {
   "cell_type": "code",
   "execution_count": 27,
   "metadata": {},
   "outputs": [],
   "source": [
    "#Convertir archivo filtrando a CSV\n",
    "filtro1.to_csv(\"Entregable1.csv\")\n",
    "filtro2.to_csv(\"Entregable2.csv\")\n",
    "filtro3.to_csv(\"Entregable3.csv\")\n",
    "filtro4.to_csv(\"Entregable4.csv\")\n",
    "filtro5.to_csv(\"Entregable5.csv\")\n",
    "filtro6.to_csv(\"Entregable6.csv\")\n",
    "filtro7.to_csv(\"Entregable7.csv\")\n",
    "filtro8.to_csv(\"Entregable8.csv\")\n",
    "filtro9.to_csv(\"Entregable9.csv\")\n",
    "filtro10.to_csv(\"Entregable10.csv\")"
   ]
  }
 ],
 "metadata": {
  "kernelspec": {
   "display_name": "Python 3",
   "language": "python",
   "name": "python3"
  },
  "language_info": {
   "codemirror_mode": {
    "name": "ipython",
    "version": 3
   },
   "file_extension": ".py",
   "mimetype": "text/x-python",
   "name": "python",
   "nbconvert_exporter": "python",
   "pygments_lexer": "ipython3",
   "version": "3.13.1"
  }
 },
 "nbformat": 4,
 "nbformat_minor": 2
}
