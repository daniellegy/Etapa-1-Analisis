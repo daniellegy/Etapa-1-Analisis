{
 "cells": [
  {
   "cell_type": "markdown",
   "metadata": {},
   "source": [
    "**IMPORTAR LIBRERIAS**"
   ]
  },
  {
   "cell_type": "code",
   "execution_count": 2,
   "metadata": {},
   "outputs": [],
   "source": [
    "import pandas as pd\n",
    "import numpy as np \n",
    "import matplotlib.pyplot as plt \n",
    "import seaborn as sns"
   ]
  },
  {
   "cell_type": "markdown",
   "metadata": {},
   "source": [
    "**CARGAR EL ARCHIVO CSV**"
   ]
  },
  {
   "cell_type": "code",
   "execution_count": 93,
   "metadata": {},
   "outputs": [
    {
     "data": {
      "text/html": [
       "<div>\n",
       "<style scoped>\n",
       "    .dataframe tbody tr th:only-of-type {\n",
       "        vertical-align: middle;\n",
       "    }\n",
       "\n",
       "    .dataframe tbody tr th {\n",
       "        vertical-align: top;\n",
       "    }\n",
       "\n",
       "    .dataframe thead th {\n",
       "        text-align: right;\n",
       "    }\n",
       "</style>\n",
       "<table border=\"1\" class=\"dataframe\">\n",
       "  <thead>\n",
       "    <tr style=\"text-align: right;\">\n",
       "      <th></th>\n",
       "      <th>CVE_DOC</th>\n",
       "      <th>CVE_CLPV</th>\n",
       "      <th>STATUS</th>\n",
       "      <th>CVE_VEND</th>\n",
       "      <th>FECHAELAB</th>\n",
       "      <th>FECHA_DOC</th>\n",
       "      <th>FECHA_ENT</th>\n",
       "      <th>FECHA_VEN</th>\n",
       "      <th>FECHA_CANCELA</th>\n",
       "      <th>CAN_TOT</th>\n",
       "      <th>DES_TOT</th>\n",
       "      <th>DES_FIN</th>\n",
       "    </tr>\n",
       "  </thead>\n",
       "  <tbody>\n",
       "    <tr>\n",
       "      <th>0</th>\n",
       "      <td>F29414</td>\n",
       "      <td>2465</td>\n",
       "      <td>C</td>\n",
       "      <td>1.0</td>\n",
       "      <td>2019-09-03 08:58:42.000</td>\n",
       "      <td>2019-09-03</td>\n",
       "      <td>2019-09-03 00:00:00</td>\n",
       "      <td>2019-09-18</td>\n",
       "      <td>2019-09-04</td>\n",
       "      <td>3980.00</td>\n",
       "      <td>0.0</td>\n",
       "      <td>0.0</td>\n",
       "    </tr>\n",
       "    <tr>\n",
       "      <th>1</th>\n",
       "      <td>F29415</td>\n",
       "      <td>3926</td>\n",
       "      <td>C</td>\n",
       "      <td>1.0</td>\n",
       "      <td>2019-09-03 09:55:14.000</td>\n",
       "      <td>2019-09-03</td>\n",
       "      <td>2019-09-03 00:00:00</td>\n",
       "      <td>2019-10-03</td>\n",
       "      <td>2019-09-03</td>\n",
       "      <td>1550.00</td>\n",
       "      <td>0.0</td>\n",
       "      <td>0.0</td>\n",
       "    </tr>\n",
       "    <tr>\n",
       "      <th>2</th>\n",
       "      <td>F29416</td>\n",
       "      <td>3926</td>\n",
       "      <td>C</td>\n",
       "      <td>1.0</td>\n",
       "      <td>2019-09-03 13:25:33.000</td>\n",
       "      <td>2019-09-03</td>\n",
       "      <td>2019-09-03 00:00:00</td>\n",
       "      <td>2019-10-03</td>\n",
       "      <td>2019-09-03</td>\n",
       "      <td>1550.00</td>\n",
       "      <td>0.0</td>\n",
       "      <td>0.0</td>\n",
       "    </tr>\n",
       "    <tr>\n",
       "      <th>3</th>\n",
       "      <td>F29417</td>\n",
       "      <td>3926</td>\n",
       "      <td>C</td>\n",
       "      <td>1.0</td>\n",
       "      <td>2019-09-03 13:33:23.000</td>\n",
       "      <td>2019-09-03</td>\n",
       "      <td>2019-09-03 00:00:00</td>\n",
       "      <td>2019-10-03</td>\n",
       "      <td>2019-09-17</td>\n",
       "      <td>1550.00</td>\n",
       "      <td>0.0</td>\n",
       "      <td>0.0</td>\n",
       "    </tr>\n",
       "    <tr>\n",
       "      <th>4</th>\n",
       "      <td>F29418</td>\n",
       "      <td>6813</td>\n",
       "      <td>C</td>\n",
       "      <td>2.0</td>\n",
       "      <td>2019-09-03 14:23:45.000</td>\n",
       "      <td>2019-09-03</td>\n",
       "      <td>2019-09-03 00:00:00</td>\n",
       "      <td>2019-09-03</td>\n",
       "      <td>2019-09-10</td>\n",
       "      <td>2435.44</td>\n",
       "      <td>0.0</td>\n",
       "      <td>0.0</td>\n",
       "    </tr>\n",
       "    <tr>\n",
       "      <th>...</th>\n",
       "      <td>...</td>\n",
       "      <td>...</td>\n",
       "      <td>...</td>\n",
       "      <td>...</td>\n",
       "      <td>...</td>\n",
       "      <td>...</td>\n",
       "      <td>...</td>\n",
       "      <td>...</td>\n",
       "      <td>...</td>\n",
       "      <td>...</td>\n",
       "      <td>...</td>\n",
       "      <td>...</td>\n",
       "    </tr>\n",
       "    <tr>\n",
       "      <th>10890</th>\n",
       "      <td>F40306</td>\n",
       "      <td>8842</td>\n",
       "      <td>E</td>\n",
       "      <td>2.0</td>\n",
       "      <td>2023-03-06 16:09:39.013</td>\n",
       "      <td>2023-03-06</td>\n",
       "      <td>2023-03-01 00:00:00</td>\n",
       "      <td>2023-03-06</td>\n",
       "      <td>NaT</td>\n",
       "      <td>3272.00</td>\n",
       "      <td>0.0</td>\n",
       "      <td>0.0</td>\n",
       "    </tr>\n",
       "    <tr>\n",
       "      <th>10891</th>\n",
       "      <td>F40307</td>\n",
       "      <td>6218</td>\n",
       "      <td>NaN</td>\n",
       "      <td>2.0</td>\n",
       "      <td>2023-03-06 16:38:42.933</td>\n",
       "      <td>2023-03-06</td>\n",
       "      <td>2023-03-06 00:00:00</td>\n",
       "      <td>2023-03-06</td>\n",
       "      <td>NaT</td>\n",
       "      <td>504.15</td>\n",
       "      <td>0.0</td>\n",
       "      <td>0.0</td>\n",
       "    </tr>\n",
       "    <tr>\n",
       "      <th>10892</th>\n",
       "      <td>NaN</td>\n",
       "      <td>5926</td>\n",
       "      <td>E</td>\n",
       "      <td>2.0</td>\n",
       "      <td>2023-03-06 17:02:33.390</td>\n",
       "      <td>2023-03-06</td>\n",
       "      <td>2023-03-06 00:00:00</td>\n",
       "      <td>2023-03-06</td>\n",
       "      <td>NaT</td>\n",
       "      <td>275.68</td>\n",
       "      <td>0.0</td>\n",
       "      <td>0.0</td>\n",
       "    </tr>\n",
       "    <tr>\n",
       "      <th>10893</th>\n",
       "      <td>F40309</td>\n",
       "      <td>361</td>\n",
       "      <td>E</td>\n",
       "      <td>2.0</td>\n",
       "      <td>2023-03-07 12:43:49.567</td>\n",
       "      <td>2023-03-07</td>\n",
       "      <td>2023-03-07 00:00:00</td>\n",
       "      <td>2023-03-07</td>\n",
       "      <td>NaT</td>\n",
       "      <td>129.30</td>\n",
       "      <td>0.0</td>\n",
       "      <td>0.0</td>\n",
       "    </tr>\n",
       "    <tr>\n",
       "      <th>10894</th>\n",
       "      <td>F40310</td>\n",
       "      <td>3011</td>\n",
       "      <td>E</td>\n",
       "      <td>2.0</td>\n",
       "      <td>2023-03-07 12:45:58.407</td>\n",
       "      <td>2023-03-07</td>\n",
       "      <td>2023-03-01 00:00:00</td>\n",
       "      <td>2023-03-07</td>\n",
       "      <td>NaT</td>\n",
       "      <td>517.20</td>\n",
       "      <td>0.0</td>\n",
       "      <td>0.0</td>\n",
       "    </tr>\n",
       "  </tbody>\n",
       "</table>\n",
       "<p>10895 rows × 12 columns</p>\n",
       "</div>"
      ],
      "text/plain": [
       "      CVE_DOC CVE_CLPV STATUS  CVE_VEND               FECHAELAB  FECHA_DOC  \\\n",
       "0      F29414     2465      C       1.0 2019-09-03 08:58:42.000 2019-09-03   \n",
       "1      F29415     3926      C       1.0 2019-09-03 09:55:14.000 2019-09-03   \n",
       "2      F29416     3926      C       1.0 2019-09-03 13:25:33.000 2019-09-03   \n",
       "3      F29417     3926      C       1.0 2019-09-03 13:33:23.000 2019-09-03   \n",
       "4      F29418     6813      C       2.0 2019-09-03 14:23:45.000 2019-09-03   \n",
       "...       ...      ...    ...       ...                     ...        ...   \n",
       "10890  F40306     8842      E       2.0 2023-03-06 16:09:39.013 2023-03-06   \n",
       "10891  F40307     6218    NaN       2.0 2023-03-06 16:38:42.933 2023-03-06   \n",
       "10892     NaN     5926      E       2.0 2023-03-06 17:02:33.390 2023-03-06   \n",
       "10893  F40309      361      E       2.0 2023-03-07 12:43:49.567 2023-03-07   \n",
       "10894  F40310     3011      E       2.0 2023-03-07 12:45:58.407 2023-03-07   \n",
       "\n",
       "                 FECHA_ENT  FECHA_VEN FECHA_CANCELA  CAN_TOT  DES_TOT  DES_FIN  \n",
       "0      2019-09-03 00:00:00 2019-09-18    2019-09-04  3980.00      0.0      0.0  \n",
       "1      2019-09-03 00:00:00 2019-10-03    2019-09-03  1550.00      0.0      0.0  \n",
       "2      2019-09-03 00:00:00 2019-10-03    2019-09-03  1550.00      0.0      0.0  \n",
       "3      2019-09-03 00:00:00 2019-10-03    2019-09-17  1550.00      0.0      0.0  \n",
       "4      2019-09-03 00:00:00 2019-09-03    2019-09-10  2435.44      0.0      0.0  \n",
       "...                    ...        ...           ...      ...      ...      ...  \n",
       "10890  2023-03-01 00:00:00 2023-03-06           NaT  3272.00      0.0      0.0  \n",
       "10891  2023-03-06 00:00:00 2023-03-06           NaT   504.15      0.0      0.0  \n",
       "10892  2023-03-06 00:00:00 2023-03-06           NaT   275.68      0.0      0.0  \n",
       "10893  2023-03-07 00:00:00 2023-03-07           NaT   129.30      0.0      0.0  \n",
       "10894  2023-03-01 00:00:00 2023-03-07           NaT   517.20      0.0      0.0  \n",
       "\n",
       "[10895 rows x 12 columns]"
      ]
     },
     "execution_count": 93,
     "metadata": {},
     "output_type": "execute_result"
    }
   ],
   "source": [
    "df = pd.read_excel('Datos de Facturación.xlsx')\n",
    "df"
   ]
  },
  {
   "cell_type": "markdown",
   "metadata": {},
   "source": [
    "**1-CVE_CLPV      (valores: 1000 a 2000)**"
   ]
  },
  {
   "cell_type": "code",
   "execution_count": null,
   "metadata": {},
   "outputs": [],
   "source": [
    "df[\"CVE_CLPV\"] = pd.to_numeric(df[\"CVE_CLPV\"],errors='coerce')\n",
    "p1=df[(df[\"CVE_CLPV\"] > 999) & (df[\"CVE_CLPV\"] < 2001)]\n",
    "p1"
   ]
  },
  {
   "cell_type": "markdown",
   "metadata": {},
   "source": [
    "**2-CVE_VEND     (Todas las claves excepto “5” y “4”)**"
   ]
  },
  {
   "cell_type": "code",
   "execution_count": null,
   "metadata": {},
   "outputs": [],
   "source": [
    "p2=df[(~(df[\"CVE_VEND\"] == \"5\")) & (~(df[\"CVE_VEND\"] == \"4\"))]\n",
    "p2"
   ]
  },
  {
   "cell_type": "markdown",
   "metadata": {},
   "source": [
    "**3-FECHA_ENT   (Fechas de “28/02/2022”)**"
   ]
  },
  {
   "cell_type": "code",
   "execution_count": null,
   "metadata": {},
   "outputs": [],
   "source": [
    "df[\"FECHA_ENT\"] = pd.to_datetime(df[\"FECHA_ENT\"],errors='coerce')\n",
    "p3=df[(df[\"FECHA_ENT\"] == \"28/02/2022\")]\n",
    "p3"
   ]
  },
  {
   "cell_type": "markdown",
   "metadata": {},
   "source": [
    "**4-CAN_TOT       (Cantidades menores a 5951.7)   o  STATUS (“E”)**"
   ]
  },
  {
   "cell_type": "code",
   "execution_count": null,
   "metadata": {},
   "outputs": [],
   "source": [
    "p4=df[(df[\"CAN_TOT\"] < 5951.7) | (df[\"STATUS\"] == \"E\")]\n",
    "p4"
   ]
  },
  {
   "cell_type": "markdown",
   "metadata": {},
   "source": [
    "**5-Solo las columnas: CVE_DOC, FECHA_ENT, FECHA_VEN y CAN_TOT**"
   ]
  },
  {
   "cell_type": "code",
   "execution_count": null,
   "metadata": {},
   "outputs": [],
   "source": [
    "p5=df.iloc[:,[0,6,7,9]]\n",
    "p5"
   ]
  },
  {
   "cell_type": "markdown",
   "metadata": {},
   "source": [
    "**6-Solo las filas de 7001-7099**"
   ]
  },
  {
   "cell_type": "code",
   "execution_count": null,
   "metadata": {},
   "outputs": [],
   "source": [
    "p6= df.iloc[7001:7100,:]\n",
    "p6"
   ]
  },
  {
   "cell_type": "markdown",
   "metadata": {},
   "source": [
    "**7-Index= CVE_VEND (valores: 1, 2)  (columna: FECHAELAB)**"
   ]
  },
  {
   "cell_type": "code",
   "execution_count": null,
   "metadata": {},
   "outputs": [],
   "source": [
    "df1=pd.read_excel('Datos de Facturación.xlsx', index_col=3)\n",
    "df1\n",
    "\n",
    "p7=df1.loc[[1.0,2.0],[\"FECHAELAB\"]]\n",
    "p7"
   ]
  }
 ],
 "metadata": {
  "kernelspec": {
   "display_name": "Python 3",
   "language": "python",
   "name": "python3"
  },
  "language_info": {
   "codemirror_mode": {
    "name": "ipython",
    "version": 3
   },
   "file_extension": ".py",
   "mimetype": "text/x-python",
   "name": "python",
   "nbconvert_exporter": "python",
   "pygments_lexer": "ipython3",
   "version": "3.13.1"
  }
 },
 "nbformat": 4,
 "nbformat_minor": 2
}
